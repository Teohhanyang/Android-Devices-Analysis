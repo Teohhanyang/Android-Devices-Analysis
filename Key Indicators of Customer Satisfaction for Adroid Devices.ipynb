{
 "cells": [
  {
   "cell_type": "markdown",
   "metadata": {},
   "source": [
    "<H1 align=\"center\">  Key Indicators of Customer Satisfaction for Android Devices </H1>\n",
    "\n",
    "---\n",
    "\n",
    "The dataset was obtained from Kaggle at https://www.kaggle.com/datasets/shreyaspj/android-devices-and-mobiles/data. According to the author, the dataset was scrapped online from the e-commerce website Flipkart. It consists of the **market performance metrics** (price, rating, and reviews) and various **device specifications** (battery, camera, display etc) of 984 android devices sold on the website. \n",
    "\n",
    "This analysis provides insights into how various factors, including price and specifications, influence customer satisfaction. However, the dataset only includes products listed on Flipkart and may not represent the entire Android market. Before analysis, the dataset underwent wrangling to remove inconsistencies and to fine tune the information contained in each column. \n",
    "\n",
    "Since the dataset lacks a direct \"customer satisfaction\" variable, ratings conditioned on a significant number of reviews was chosen as a proxy metric. Justification for the chosen metric through theoretical knowledge and data evidence is provided. "
   ]
  },
  {
   "cell_type": "code",
   "execution_count": 31,
   "metadata": {},
   "outputs": [],
   "source": [
    "import pandas as pd\n",
    "import matplotlib.pyplot as plt\n",
    "import numpy as np\n",
    "import re\n",
    "import seaborn as sns\n",
    "from sklearn.linear_model import LinearRegression"
   ]
  },
  {
   "cell_type": "code",
   "execution_count": 32,
   "metadata": {},
   "outputs": [
    {
     "data": {
      "text/html": [
       "<div>\n",
       "<style scoped>\n",
       "    .dataframe tbody tr th:only-of-type {\n",
       "        vertical-align: middle;\n",
       "    }\n",
       "\n",
       "    .dataframe tbody tr th {\n",
       "        vertical-align: top;\n",
       "    }\n",
       "\n",
       "    .dataframe thead th {\n",
       "        text-align: right;\n",
       "    }\n",
       "</style>\n",
       "<table border=\"1\" class=\"dataframe\">\n",
       "  <thead>\n",
       "    <tr style=\"text-align: right;\">\n",
       "      <th></th>\n",
       "      <th>battery</th>\n",
       "      <th>camera</th>\n",
       "      <th>display</th>\n",
       "      <th>memory</th>\n",
       "      <th>name</th>\n",
       "      <th>price</th>\n",
       "      <th>processor</th>\n",
       "      <th>rating</th>\n",
       "      <th>reviews</th>\n",
       "      <th>warranty</th>\n",
       "    </tr>\n",
       "  </thead>\n",
       "  <tbody>\n",
       "    <tr>\n",
       "      <th>0</th>\n",
       "      <td>5000 mAh Battery</td>\n",
       "      <td>12MP + 2MP | 8MP Front Camera</td>\n",
       "      <td>15.8 cm (6.22 inch) HD+ Display</td>\n",
       "      <td>4 GB RAM | 64 GB ROM | Expandable Upto 512 GB</td>\n",
       "      <td>Redmi 8 (Ruby Red, 64 GB)</td>\n",
       "      <td>9999</td>\n",
       "      <td>Qualcomm Snapdragon 439 Processor</td>\n",
       "      <td>4.4</td>\n",
       "      <td>55,078 Reviews</td>\n",
       "      <td>Brand Warranty of 1 Year Available for Mobile ...</td>\n",
       "    </tr>\n",
       "    <tr>\n",
       "      <th>1</th>\n",
       "      <td>5000 mAh Battery</td>\n",
       "      <td>12MP + 8MP + 2MP + 2MP | 8MP Front Camera</td>\n",
       "      <td>16.56 cm (6.52 inch) HD+ Display</td>\n",
       "      <td>4 GB RAM | 64 GB ROM</td>\n",
       "      <td>Realme 5i (Aqua Blue, 64 GB)</td>\n",
       "      <td>10999</td>\n",
       "      <td>Qualcomm Snapdragon 665 2 GHz Processor</td>\n",
       "      <td>4.5</td>\n",
       "      <td>20,062 Reviews</td>\n",
       "      <td>Sunrise Design</td>\n",
       "    </tr>\n",
       "    <tr>\n",
       "      <th>2</th>\n",
       "      <td>5000 mAh Battery</td>\n",
       "      <td>12MP + 8MP + 2MP + 2MP | 8MP Front Camera</td>\n",
       "      <td>16.56 cm (6.52 inch) HD+ Display</td>\n",
       "      <td>4 GB RAM | 128 GB ROM</td>\n",
       "      <td>Realme 5i (Aqua Blue, 128 GB)</td>\n",
       "      <td>11999</td>\n",
       "      <td>Qualcomm Snapdragon 665 (2 GHz) Processor</td>\n",
       "      <td>4.5</td>\n",
       "      <td>20,062 Reviews</td>\n",
       "      <td>Sunrise Design</td>\n",
       "    </tr>\n",
       "    <tr>\n",
       "      <th>3</th>\n",
       "      <td>5000 mAh Battery</td>\n",
       "      <td>12MP + 8MP + 2MP + 2MP | 8MP Front Camera</td>\n",
       "      <td>16.56 cm (6.52 inch) HD+ Display</td>\n",
       "      <td>4 GB RAM | 128 GB ROM</td>\n",
       "      <td>Realme 5i (Forest Green, 128 GB)</td>\n",
       "      <td>11999</td>\n",
       "      <td>Qualcomm Snapdragon 665 (2 GHz) Processor</td>\n",
       "      <td>4.5</td>\n",
       "      <td>20,062 Reviews</td>\n",
       "      <td>Sunrise Design</td>\n",
       "    </tr>\n",
       "    <tr>\n",
       "      <th>4</th>\n",
       "      <td>4000 mAh Battery</td>\n",
       "      <td>13MP + 2MP | 5MP Front Camera</td>\n",
       "      <td>15.49 cm (6.1 inch) HD+ Display</td>\n",
       "      <td>3 GB RAM | 32 GB ROM | Expandable Upto 256 GB</td>\n",
       "      <td>Realme C2 (Diamond Blue, 32 GB)</td>\n",
       "      <td>7499</td>\n",
       "      <td>MediaTek P22 Octa Core 2.0 GHz Processor</td>\n",
       "      <td>4.4</td>\n",
       "      <td>10,091 Reviews</td>\n",
       "      <td>Dual Nano SIM slots and Memory Card Slot</td>\n",
       "    </tr>\n",
       "  </tbody>\n",
       "</table>\n",
       "</div>"
      ],
      "text/plain": [
       "            battery                                     camera  \\\n",
       "0  5000 mAh Battery              12MP + 2MP | 8MP Front Camera   \n",
       "1  5000 mAh Battery  12MP + 8MP + 2MP + 2MP | 8MP Front Camera   \n",
       "2  5000 mAh Battery  12MP + 8MP + 2MP + 2MP | 8MP Front Camera   \n",
       "3  5000 mAh Battery  12MP + 8MP + 2MP + 2MP | 8MP Front Camera   \n",
       "4  4000 mAh Battery              13MP + 2MP | 5MP Front Camera   \n",
       "\n",
       "                            display  \\\n",
       "0   15.8 cm (6.22 inch) HD+ Display   \n",
       "1  16.56 cm (6.52 inch) HD+ Display   \n",
       "2  16.56 cm (6.52 inch) HD+ Display   \n",
       "3  16.56 cm (6.52 inch) HD+ Display   \n",
       "4   15.49 cm (6.1 inch) HD+ Display   \n",
       "\n",
       "                                          memory  \\\n",
       "0  4 GB RAM | 64 GB ROM | Expandable Upto 512 GB   \n",
       "1                           4 GB RAM | 64 GB ROM   \n",
       "2                          4 GB RAM | 128 GB ROM   \n",
       "3                          4 GB RAM | 128 GB ROM   \n",
       "4  3 GB RAM | 32 GB ROM | Expandable Upto 256 GB   \n",
       "\n",
       "                               name  price  \\\n",
       "0         Redmi 8 (Ruby Red, 64 GB)   9999   \n",
       "1      Realme 5i (Aqua Blue, 64 GB)  10999   \n",
       "2     Realme 5i (Aqua Blue, 128 GB)  11999   \n",
       "3  Realme 5i (Forest Green, 128 GB)  11999   \n",
       "4   Realme C2 (Diamond Blue, 32 GB)   7499   \n",
       "\n",
       "                                   processor  rating         reviews  \\\n",
       "0          Qualcomm Snapdragon 439 Processor     4.4  55,078 Reviews   \n",
       "1    Qualcomm Snapdragon 665 2 GHz Processor     4.5  20,062 Reviews   \n",
       "2  Qualcomm Snapdragon 665 (2 GHz) Processor     4.5  20,062 Reviews   \n",
       "3  Qualcomm Snapdragon 665 (2 GHz) Processor     4.5  20,062 Reviews   \n",
       "4   MediaTek P22 Octa Core 2.0 GHz Processor     4.4  10,091 Reviews   \n",
       "\n",
       "                                            warranty  \n",
       "0  Brand Warranty of 1 Year Available for Mobile ...  \n",
       "1                                     Sunrise Design  \n",
       "2                                     Sunrise Design  \n",
       "3                                     Sunrise Design  \n",
       "4           Dual Nano SIM slots and Memory Card Slot  "
      ]
     },
     "execution_count": 32,
     "metadata": {},
     "output_type": "execute_result"
    }
   ],
   "source": [
    "df = pd.read_csv(\"mobiles1.csv\")\n",
    "df.head()"
   ]
  },
  {
   "cell_type": "code",
   "execution_count": 33,
   "metadata": {},
   "outputs": [
    {
     "name": "stdout",
     "output_type": "stream",
     "text": [
      "<class 'pandas.core.frame.DataFrame'>\n",
      "RangeIndex: 984 entries, 0 to 983\n",
      "Data columns (total 10 columns):\n",
      " #   Column     Non-Null Count  Dtype  \n",
      "---  ------     --------------  -----  \n",
      " 0   battery    984 non-null    object \n",
      " 1   camera     984 non-null    object \n",
      " 2   display    984 non-null    object \n",
      " 3   memory     984 non-null    object \n",
      " 4   name       984 non-null    object \n",
      " 5   price      984 non-null    int64  \n",
      " 6   processor  983 non-null    object \n",
      " 7   rating     971 non-null    float64\n",
      " 8   reviews    971 non-null    object \n",
      " 9   warranty   836 non-null    object \n",
      "dtypes: float64(1), int64(1), object(8)\n",
      "memory usage: 77.0+ KB\n"
     ]
    }
   ],
   "source": [
    "df.info()"
   ]
  },
  {
   "cell_type": "markdown",
   "metadata": {},
   "source": [
    "####"
   ]
  },
  {
   "cell_type": "markdown",
   "metadata": {},
   "source": [
    "## **🧹 1 Data Wrangling** "
   ]
  },
  {
   "cell_type": "markdown",
   "metadata": {},
   "source": [
    "### **1.1 Removing missing values and anomalies**"
   ]
  },
  {
   "cell_type": "markdown",
   "metadata": {},
   "source": [
    "First, we find out if there are missing values in the data. We remove the rows containing missing values then recalculate the missing count and number of rows remaining to double check."
   ]
  },
  {
   "cell_type": "code",
   "execution_count": 34,
   "metadata": {},
   "outputs": [
    {
     "data": {
      "text/plain": [
       "battery        0\n",
       "camera         0\n",
       "display        0\n",
       "memory         0\n",
       "name           0\n",
       "price          0\n",
       "processor      1\n",
       "rating        13\n",
       "reviews       13\n",
       "warranty     148\n",
       "dtype: int64"
      ]
     },
     "execution_count": 34,
     "metadata": {},
     "output_type": "execute_result"
    }
   ],
   "source": [
    "# obtain the number of missing data points per column\n",
    "missing_values_count = df.isnull().sum()\n",
    "missing_values_count[:]"
   ]
  },
  {
   "cell_type": "code",
   "execution_count": 35,
   "metadata": {},
   "outputs": [
    {
     "name": "stdout",
     "output_type": "stream",
     "text": [
      "battery      0\n",
      "camera       0\n",
      "display      0\n",
      "memory       0\n",
      "name         0\n",
      "price        0\n",
      "processor    0\n",
      "rating       0\n",
      "reviews      0\n",
      "warranty     0\n",
      "dtype: int64\n",
      "\n",
      "828\n"
     ]
    }
   ],
   "source": [
    "df = df.dropna()\n",
    "\n",
    "# Recalculate missing values count\n",
    "missing_values_count = df.isnull().sum()\n",
    "print(missing_values_count)\n",
    "\n",
    "# Double check number of rows remaining \n",
    "print()\n",
    "print(df.shape[0])"
   ]
  },
  {
   "cell_type": "markdown",
   "metadata": {},
   "source": [
    "The warranty column contains many anomalies (see first 15 rows below). A Google search on Flipkart suggests the author made an error during web scraping, as many of the odd values in the column likely belonged to the **highlights** section of the devices instead. \n",
    "\n",
    "For one of many examples, see **highlights** section for the device *realme C2 (Diamond Blue, 32 GB)* at its Flipkart store page: https://shorturl.at/1TMgr. One of the device's highlights were *Dual Nano SIM slots and Memory Card Slot*, which was its input for the warranty column.\n",
    "\n",
    "Unfortunately, there are far too many such errors so the warranty column will be dropped. "
   ]
  },
  {
   "cell_type": "code",
   "execution_count": 36,
   "metadata": {},
   "outputs": [
    {
     "data": {
      "text/plain": [
       "0     Brand Warranty of 1 Year Available for Mobile ...\n",
       "1                                        Sunrise Design\n",
       "2                                        Sunrise Design\n",
       "3                                        Sunrise Design\n",
       "4              Dual Nano SIM slots and Memory Card Slot\n",
       "5              Dual Nano SIM slots and Memory Card Slot\n",
       "6              Dual Nano SIM slots and Memory Card Slot\n",
       "7              Dual Nano SIM slots and Memory Card Slot\n",
       "8                                        Sunrise Design\n",
       "9              Dual Nano SIM slots and Memory Card Slot\n",
       "10    Brand Warranty of 1 Year Available for Mobile ...\n",
       "11    Brand Warranty of 1 Year Available for Mobile ...\n",
       "12                                   18 W Fast Charging\n",
       "13    Brand Warranty of 1 Year Available for Mobile ...\n",
       "14    Brand Warranty of 1 Year Available for Mobile ...\n",
       "Name: warranty, dtype: object"
      ]
     },
     "execution_count": 36,
     "metadata": {},
     "output_type": "execute_result"
    }
   ],
   "source": [
    "# First 15 rows of warranty\n",
    "df[\"warranty\"].head(15)"
   ]
  },
  {
   "cell_type": "code",
   "execution_count": 37,
   "metadata": {},
   "outputs": [
    {
     "data": {
      "text/html": [
       "<div>\n",
       "<style scoped>\n",
       "    .dataframe tbody tr th:only-of-type {\n",
       "        vertical-align: middle;\n",
       "    }\n",
       "\n",
       "    .dataframe tbody tr th {\n",
       "        vertical-align: top;\n",
       "    }\n",
       "\n",
       "    .dataframe thead th {\n",
       "        text-align: right;\n",
       "    }\n",
       "</style>\n",
       "<table border=\"1\" class=\"dataframe\">\n",
       "  <thead>\n",
       "    <tr style=\"text-align: right;\">\n",
       "      <th></th>\n",
       "      <th>battery</th>\n",
       "      <th>camera</th>\n",
       "      <th>display</th>\n",
       "      <th>memory</th>\n",
       "      <th>name</th>\n",
       "      <th>price</th>\n",
       "      <th>processor</th>\n",
       "      <th>rating</th>\n",
       "      <th>reviews</th>\n",
       "    </tr>\n",
       "  </thead>\n",
       "  <tbody>\n",
       "    <tr>\n",
       "      <th>0</th>\n",
       "      <td>5000 mAh Battery</td>\n",
       "      <td>12MP + 2MP | 8MP Front Camera</td>\n",
       "      <td>15.8 cm (6.22 inch) HD+ Display</td>\n",
       "      <td>4 GB RAM | 64 GB ROM | Expandable Upto 512 GB</td>\n",
       "      <td>Redmi 8 (Ruby Red, 64 GB)</td>\n",
       "      <td>9999</td>\n",
       "      <td>Qualcomm Snapdragon 439 Processor</td>\n",
       "      <td>4.4</td>\n",
       "      <td>55,078 Reviews</td>\n",
       "    </tr>\n",
       "    <tr>\n",
       "      <th>1</th>\n",
       "      <td>5000 mAh Battery</td>\n",
       "      <td>12MP + 8MP + 2MP + 2MP | 8MP Front Camera</td>\n",
       "      <td>16.56 cm (6.52 inch) HD+ Display</td>\n",
       "      <td>4 GB RAM | 64 GB ROM</td>\n",
       "      <td>Realme 5i (Aqua Blue, 64 GB)</td>\n",
       "      <td>10999</td>\n",
       "      <td>Qualcomm Snapdragon 665 2 GHz Processor</td>\n",
       "      <td>4.5</td>\n",
       "      <td>20,062 Reviews</td>\n",
       "    </tr>\n",
       "    <tr>\n",
       "      <th>2</th>\n",
       "      <td>5000 mAh Battery</td>\n",
       "      <td>12MP + 8MP + 2MP + 2MP | 8MP Front Camera</td>\n",
       "      <td>16.56 cm (6.52 inch) HD+ Display</td>\n",
       "      <td>4 GB RAM | 128 GB ROM</td>\n",
       "      <td>Realme 5i (Aqua Blue, 128 GB)</td>\n",
       "      <td>11999</td>\n",
       "      <td>Qualcomm Snapdragon 665 (2 GHz) Processor</td>\n",
       "      <td>4.5</td>\n",
       "      <td>20,062 Reviews</td>\n",
       "    </tr>\n",
       "    <tr>\n",
       "      <th>3</th>\n",
       "      <td>5000 mAh Battery</td>\n",
       "      <td>12MP + 8MP + 2MP + 2MP | 8MP Front Camera</td>\n",
       "      <td>16.56 cm (6.52 inch) HD+ Display</td>\n",
       "      <td>4 GB RAM | 128 GB ROM</td>\n",
       "      <td>Realme 5i (Forest Green, 128 GB)</td>\n",
       "      <td>11999</td>\n",
       "      <td>Qualcomm Snapdragon 665 (2 GHz) Processor</td>\n",
       "      <td>4.5</td>\n",
       "      <td>20,062 Reviews</td>\n",
       "    </tr>\n",
       "    <tr>\n",
       "      <th>4</th>\n",
       "      <td>4000 mAh Battery</td>\n",
       "      <td>13MP + 2MP | 5MP Front Camera</td>\n",
       "      <td>15.49 cm (6.1 inch) HD+ Display</td>\n",
       "      <td>3 GB RAM | 32 GB ROM | Expandable Upto 256 GB</td>\n",
       "      <td>Realme C2 (Diamond Blue, 32 GB)</td>\n",
       "      <td>7499</td>\n",
       "      <td>MediaTek P22 Octa Core 2.0 GHz Processor</td>\n",
       "      <td>4.4</td>\n",
       "      <td>10,091 Reviews</td>\n",
       "    </tr>\n",
       "  </tbody>\n",
       "</table>\n",
       "</div>"
      ],
      "text/plain": [
       "            battery                                     camera  \\\n",
       "0  5000 mAh Battery              12MP + 2MP | 8MP Front Camera   \n",
       "1  5000 mAh Battery  12MP + 8MP + 2MP + 2MP | 8MP Front Camera   \n",
       "2  5000 mAh Battery  12MP + 8MP + 2MP + 2MP | 8MP Front Camera   \n",
       "3  5000 mAh Battery  12MP + 8MP + 2MP + 2MP | 8MP Front Camera   \n",
       "4  4000 mAh Battery              13MP + 2MP | 5MP Front Camera   \n",
       "\n",
       "                            display  \\\n",
       "0   15.8 cm (6.22 inch) HD+ Display   \n",
       "1  16.56 cm (6.52 inch) HD+ Display   \n",
       "2  16.56 cm (6.52 inch) HD+ Display   \n",
       "3  16.56 cm (6.52 inch) HD+ Display   \n",
       "4   15.49 cm (6.1 inch) HD+ Display   \n",
       "\n",
       "                                          memory  \\\n",
       "0  4 GB RAM | 64 GB ROM | Expandable Upto 512 GB   \n",
       "1                           4 GB RAM | 64 GB ROM   \n",
       "2                          4 GB RAM | 128 GB ROM   \n",
       "3                          4 GB RAM | 128 GB ROM   \n",
       "4  3 GB RAM | 32 GB ROM | Expandable Upto 256 GB   \n",
       "\n",
       "                               name  price  \\\n",
       "0         Redmi 8 (Ruby Red, 64 GB)   9999   \n",
       "1      Realme 5i (Aqua Blue, 64 GB)  10999   \n",
       "2     Realme 5i (Aqua Blue, 128 GB)  11999   \n",
       "3  Realme 5i (Forest Green, 128 GB)  11999   \n",
       "4   Realme C2 (Diamond Blue, 32 GB)   7499   \n",
       "\n",
       "                                   processor  rating         reviews  \n",
       "0          Qualcomm Snapdragon 439 Processor     4.4  55,078 Reviews  \n",
       "1    Qualcomm Snapdragon 665 2 GHz Processor     4.5  20,062 Reviews  \n",
       "2  Qualcomm Snapdragon 665 (2 GHz) Processor     4.5  20,062 Reviews  \n",
       "3  Qualcomm Snapdragon 665 (2 GHz) Processor     4.5  20,062 Reviews  \n",
       "4   MediaTek P22 Octa Core 2.0 GHz Processor     4.4  10,091 Reviews  "
      ]
     },
     "execution_count": 37,
     "metadata": {},
     "output_type": "execute_result"
    }
   ],
   "source": [
    "# Drop warranty column\n",
    "df = df.drop(columns=[\"warranty\"])\n",
    "\n",
    "# Display first 5 rows to confirm column has been removed\n",
    "df.head()"
   ]
  },
  {
   "cell_type": "markdown",
   "metadata": {},
   "source": [
    "### **1.2 Separating multi-attribute columns and grouping similar categories**\n",
    "Many columns seem to contain multiple pieces of information. For example, the name column includes the **model** (e.g., Redmi 8), the **colour** (e.g., Ruby Red) and the **ROM size** (e.g., 64GB); such attributes could be systematically separated into distinct columns for better clarity and analysis."
   ]
  },
  {
   "cell_type": "markdown",
   "metadata": {},
   "source": [
    "#### Battery\n",
    "\n",
    "The battery type labels are inconsistent, with variations like Li-Ion and Li-Ion Polymer likely referring to the same technology within the data set. While these are technically distinct technologies, most modern smartphones use Li-Ion Polymer, making the distinction less meaningful in this context. Additionally, it is reasonable to assume that battery capacity is the primary factor consumers consider, whereas battery type has minimal impact on purchasing decisions. Therefore, **only battery capacity is retained for analysis**, while the ambiguous battery type will be dropped."
   ]
  },
  {
   "cell_type": "code",
   "execution_count": 38,
   "metadata": {},
   "outputs": [
    {
     "data": {
      "text/html": [
       "<div>\n",
       "<style scoped>\n",
       "    .dataframe tbody tr th:only-of-type {\n",
       "        vertical-align: middle;\n",
       "    }\n",
       "\n",
       "    .dataframe tbody tr th {\n",
       "        vertical-align: top;\n",
       "    }\n",
       "\n",
       "    .dataframe thead th {\n",
       "        text-align: right;\n",
       "    }\n",
       "</style>\n",
       "<table border=\"1\" class=\"dataframe\">\n",
       "  <thead>\n",
       "    <tr style=\"text-align: right;\">\n",
       "      <th></th>\n",
       "      <th>Battery_Capacity (mAh)</th>\n",
       "    </tr>\n",
       "  </thead>\n",
       "  <tbody>\n",
       "    <tr>\n",
       "      <th>0</th>\n",
       "      <td>5000</td>\n",
       "    </tr>\n",
       "    <tr>\n",
       "      <th>1</th>\n",
       "      <td>5000</td>\n",
       "    </tr>\n",
       "    <tr>\n",
       "      <th>2</th>\n",
       "      <td>5000</td>\n",
       "    </tr>\n",
       "    <tr>\n",
       "      <th>3</th>\n",
       "      <td>5000</td>\n",
       "    </tr>\n",
       "    <tr>\n",
       "      <th>4</th>\n",
       "      <td>4000</td>\n",
       "    </tr>\n",
       "    <tr>\n",
       "      <th>5</th>\n",
       "      <td>4000</td>\n",
       "    </tr>\n",
       "    <tr>\n",
       "      <th>6</th>\n",
       "      <td>4000</td>\n",
       "    </tr>\n",
       "    <tr>\n",
       "      <th>7</th>\n",
       "      <td>4000</td>\n",
       "    </tr>\n",
       "    <tr>\n",
       "      <th>8</th>\n",
       "      <td>5000</td>\n",
       "    </tr>\n",
       "    <tr>\n",
       "      <th>9</th>\n",
       "      <td>4000</td>\n",
       "    </tr>\n",
       "  </tbody>\n",
       "</table>\n",
       "</div>"
      ],
      "text/plain": [
       "   Battery_Capacity (mAh)\n",
       "0                    5000\n",
       "1                    5000\n",
       "2                    5000\n",
       "3                    5000\n",
       "4                    4000\n",
       "5                    4000\n",
       "6                    4000\n",
       "7                    4000\n",
       "8                    5000\n",
       "9                    4000"
      ]
     },
     "execution_count": 38,
     "metadata": {},
     "output_type": "execute_result"
    }
   ],
   "source": [
    "# Function to extract battery capacity (in mAh)\n",
    "def extract_capacity(value):\n",
    "    match = re.search(r\"(\\d+)\\s*mAh\", str(value))\n",
    "    return int(match.group(1)) if match else None\n",
    "\n",
    "# Create new column for battery capacity\n",
    "df[\"Battery_Capacity (mAh)\"] = df[\"battery\"].apply(extract_capacity)\n",
    "df[\"Battery_Capacity (mAh)\"] = df[\"Battery_Capacity (mAh)\"].astype(\"Int64\")\n",
    "\n",
    "# Drop the original battery column\n",
    "df = df.drop(columns=[\"battery\"])\n",
    "\n",
    "df[[\"Battery_Capacity (mAh)\"]].head(10)"
   ]
  },
  {
   "cell_type": "markdown",
   "metadata": {},
   "source": [
    "#### Camera\n",
    "\n",
    "The camera column contains 4 pieces of information: number of lenses in back camera, number of megapixels for each lense in back camera, number of lenses in front camera, and number of megapixels for each lense in front camera. For ease of analysis, only the highest megapixels count will be extracted for both the front and back camera. \n",
    "\n",
    "**Note:** There are certain inputs like \"*48MP + 8MP | 48MP(F2.0) + 8MP(Ultra Wide/F2.2) + TOF (Time-of-Flight) 3D-Depth Rotating Camera*\" which includes additonal description beyond the number of lenses and megapixels. The approach taken is to ignore these extra descriptions since there were only a few of them."
   ]
  },
  {
   "cell_type": "code",
   "execution_count": 39,
   "metadata": {},
   "outputs": [
    {
     "data": {
      "text/html": [
       "<div>\n",
       "<style scoped>\n",
       "    .dataframe tbody tr th:only-of-type {\n",
       "        vertical-align: middle;\n",
       "    }\n",
       "\n",
       "    .dataframe tbody tr th {\n",
       "        vertical-align: top;\n",
       "    }\n",
       "\n",
       "    .dataframe thead th {\n",
       "        text-align: right;\n",
       "    }\n",
       "</style>\n",
       "<table border=\"1\" class=\"dataframe\">\n",
       "  <thead>\n",
       "    <tr style=\"text-align: right;\">\n",
       "      <th></th>\n",
       "      <th>Back_Camera_MP</th>\n",
       "      <th>Back_Camera_No._Lenses</th>\n",
       "      <th>Front_Camera_MP</th>\n",
       "      <th>Front_Camera_No._Lenses</th>\n",
       "    </tr>\n",
       "  </thead>\n",
       "  <tbody>\n",
       "    <tr>\n",
       "      <th>0</th>\n",
       "      <td>12</td>\n",
       "      <td>2</td>\n",
       "      <td>8</td>\n",
       "      <td>1</td>\n",
       "    </tr>\n",
       "    <tr>\n",
       "      <th>1</th>\n",
       "      <td>12</td>\n",
       "      <td>4</td>\n",
       "      <td>8</td>\n",
       "      <td>1</td>\n",
       "    </tr>\n",
       "    <tr>\n",
       "      <th>2</th>\n",
       "      <td>12</td>\n",
       "      <td>4</td>\n",
       "      <td>8</td>\n",
       "      <td>1</td>\n",
       "    </tr>\n",
       "    <tr>\n",
       "      <th>3</th>\n",
       "      <td>12</td>\n",
       "      <td>4</td>\n",
       "      <td>8</td>\n",
       "      <td>1</td>\n",
       "    </tr>\n",
       "    <tr>\n",
       "      <th>4</th>\n",
       "      <td>13</td>\n",
       "      <td>2</td>\n",
       "      <td>5</td>\n",
       "      <td>1</td>\n",
       "    </tr>\n",
       "  </tbody>\n",
       "</table>\n",
       "</div>"
      ],
      "text/plain": [
       "   Back_Camera_MP  Back_Camera_No._Lenses  Front_Camera_MP  \\\n",
       "0              12                       2                8   \n",
       "1              12                       4                8   \n",
       "2              12                       4                8   \n",
       "3              12                       4                8   \n",
       "4              13                       2                5   \n",
       "\n",
       "   Front_Camera_No._Lenses  \n",
       "0                        1  \n",
       "1                        1  \n",
       "2                        1  \n",
       "3                        1  \n",
       "4                        1  "
      ]
     },
     "execution_count": 39,
     "metadata": {},
     "output_type": "execute_result"
    }
   ],
   "source": [
    "def extract_camera_info(camera_str):\n",
    "    # Split into back and front camera using '|'\n",
    "    parts = camera_str.split('|')\n",
    "    \n",
    "    back_camera = parts[0].strip()  # First part is back camera\n",
    "    front_camera = parts[1].strip() if len(parts) > 1 else \"\"  # Second part is front camera if available\n",
    "\n",
    "    # Function to extract highest megapixel count and number of lenses\n",
    "    def get_camera_details(camera_text):\n",
    "        # Find all occurrences of megapixels (e.g., 48MP, 8MP)\n",
    "        megapixels = [int(mp) for mp in re.findall(r'(\\d+)MP', camera_text)]\n",
    "        highest_mp = max(megapixels) if megapixels else None  # Get the highest MP\n",
    "        \n",
    "        # Count the number of lenses (based on number of plus signs)\n",
    "        num_lenses = camera_text.count('+') + 1 if '+' in camera_text else 1\n",
    "        \n",
    "        return highest_mp, num_lenses\n",
    "\n",
    "    # Extract details\n",
    "    back_mp, back_lenses = get_camera_details(back_camera)\n",
    "    front_mp, front_lenses = get_camera_details(front_camera)\n",
    "\n",
    "    return back_mp, back_lenses, front_mp, front_lenses\n",
    "\n",
    "df[['Back_Camera_MP', 'Back_Camera_No._Lenses', 'Front_Camera_MP','Front_Camera_No._Lenses']] = df['camera'].apply(\n",
    "    lambda x: pd.Series(extract_camera_info(str(x)))\n",
    ")\n",
    "df[\"Back_Camera_MP\"] = df[\"Back_Camera_MP\"].astype(\"Int64\")\n",
    "df[\"Back_Camera_No._Lenses\"] = df[\"Back_Camera_No._Lenses\"].astype(\"Int64\")\n",
    "df[\"Front_Camera_MP\"] = df[\"Front_Camera_MP\"].astype(\"Int64\")\n",
    "df[\"Front_Camera_No._Lenses\"] = df[\"Front_Camera_No._Lenses\"].astype(\"Int64\")\n",
    "\n",
    "df = df.drop(columns=[\"camera\"])\n",
    "\n",
    "df[['Back_Camera_MP', 'Back_Camera_No._Lenses', 'Front_Camera_MP','Front_Camera_No._Lenses']].head()"
   ]
  },
  {
   "cell_type": "markdown",
   "metadata": {},
   "source": [
    "#### Display\n",
    "\n",
    "The display column contains 2 pieces of information: display size (in both cm and inches) and display resolution. Display size will only be kept in inches once extracted. \n",
    "Display resolution consists of 4 main types: HD, HD+, Full HD, and Full HD+. Any other resolutions will be classified as \"unspecified\"\n",
    "\n",
    "**Note:** Similarly to the camera column, there are certain inputs which include additonal descriptions beyond the display resolution. These will be classified as \"unspecified\""
   ]
  },
  {
   "cell_type": "code",
   "execution_count": 40,
   "metadata": {},
   "outputs": [
    {
     "data": {
      "text/html": [
       "<div>\n",
       "<style scoped>\n",
       "    .dataframe tbody tr th:only-of-type {\n",
       "        vertical-align: middle;\n",
       "    }\n",
       "\n",
       "    .dataframe tbody tr th {\n",
       "        vertical-align: top;\n",
       "    }\n",
       "\n",
       "    .dataframe thead th {\n",
       "        text-align: right;\n",
       "    }\n",
       "</style>\n",
       "<table border=\"1\" class=\"dataframe\">\n",
       "  <thead>\n",
       "    <tr style=\"text-align: right;\">\n",
       "      <th></th>\n",
       "      <th>Display_Size_(inches)</th>\n",
       "      <th>Resolution</th>\n",
       "    </tr>\n",
       "  </thead>\n",
       "  <tbody>\n",
       "    <tr>\n",
       "      <th>0</th>\n",
       "      <td>6.22</td>\n",
       "      <td>HD+</td>\n",
       "    </tr>\n",
       "    <tr>\n",
       "      <th>1</th>\n",
       "      <td>6.52</td>\n",
       "      <td>HD+</td>\n",
       "    </tr>\n",
       "    <tr>\n",
       "      <th>2</th>\n",
       "      <td>6.52</td>\n",
       "      <td>HD+</td>\n",
       "    </tr>\n",
       "    <tr>\n",
       "      <th>3</th>\n",
       "      <td>6.52</td>\n",
       "      <td>HD+</td>\n",
       "    </tr>\n",
       "    <tr>\n",
       "      <th>4</th>\n",
       "      <td>6.10</td>\n",
       "      <td>HD+</td>\n",
       "    </tr>\n",
       "  </tbody>\n",
       "</table>\n",
       "</div>"
      ],
      "text/plain": [
       "   Display_Size_(inches) Resolution\n",
       "0                   6.22        HD+\n",
       "1                   6.52        HD+\n",
       "2                   6.52        HD+\n",
       "3                   6.52        HD+\n",
       "4                   6.10        HD+"
      ]
     },
     "execution_count": 40,
     "metadata": {},
     "output_type": "execute_result"
    }
   ],
   "source": [
    "def extract_display_info(display_str):\n",
    "    \"\"\"Extract display size (in inches) and resolution type (HD+, HD, Full HD+, Full HD, Unspecified).\"\"\"\n",
    "    display_size = None\n",
    "    resolution = \"Unspecified\"  # Default value\n",
    "\n",
    "    # Extract display size (e.g., 6.5 inch, 6.7\", etc.)\n",
    "    size_match = re.search(r'(\\d+(\\.\\d+)?)\\s*(inch|\")', display_str, re.IGNORECASE)\n",
    "    if size_match:\n",
    "        display_size = float(size_match.group(1))  # Convert to float\n",
    "\n",
    "    # Extract resolution type\n",
    "    if re.search(r'full\\s*hd\\+', display_str, re.IGNORECASE):\n",
    "        resolution = \"Full HD+\"\n",
    "    elif re.search(r'full\\s*hd', display_str, re.IGNORECASE):\n",
    "        resolution = \"Full HD\"\n",
    "    elif re.search(r'hd\\+', display_str, re.IGNORECASE):\n",
    "        resolution = \"HD+\"\n",
    "    elif re.search(r'\\bhd\\b', display_str, re.IGNORECASE):  # Ensure \"HD\" is a separate word\n",
    "        resolution = \"HD\"\n",
    "\n",
    "    return display_size, resolution\n",
    "\n",
    "# Apply function to extract display details\n",
    "df[['Display_Size_(inches)', 'Resolution']] = df['display'].apply(\n",
    "    lambda x: pd.Series(extract_display_info(str(x)))\n",
    ")\n",
    "\n",
    "df = df.drop(columns=[\"display\"])\n",
    "\n",
    "df[['Display_Size_(inches)', 'Resolution']].head()"
   ]
  },
  {
   "cell_type": "markdown",
   "metadata": {},
   "source": [
    "#### Memory\n",
    "\n",
    "The memory column consists of 3 pieces of information: RAM capacity, ROM capacity, and the maximum storage capacity that can be expanded. For ease of analysis, the maximum expandable storage capacity will simply be extracted as a boolean variable indicating whether expansion is possible; the size of the expansion will not be considered. "
   ]
  },
  {
   "cell_type": "code",
   "execution_count": 41,
   "metadata": {},
   "outputs": [
    {
     "data": {
      "text/html": [
       "<div>\n",
       "<style scoped>\n",
       "    .dataframe tbody tr th:only-of-type {\n",
       "        vertical-align: middle;\n",
       "    }\n",
       "\n",
       "    .dataframe tbody tr th {\n",
       "        vertical-align: top;\n",
       "    }\n",
       "\n",
       "    .dataframe thead th {\n",
       "        text-align: right;\n",
       "    }\n",
       "</style>\n",
       "<table border=\"1\" class=\"dataframe\">\n",
       "  <thead>\n",
       "    <tr style=\"text-align: right;\">\n",
       "      <th></th>\n",
       "      <th>RAM_Capacity_(GB)</th>\n",
       "      <th>ROM_Capacity_(GB)</th>\n",
       "      <th>ROM_Expandable</th>\n",
       "    </tr>\n",
       "  </thead>\n",
       "  <tbody>\n",
       "    <tr>\n",
       "      <th>0</th>\n",
       "      <td>4</td>\n",
       "      <td>64</td>\n",
       "      <td>True</td>\n",
       "    </tr>\n",
       "    <tr>\n",
       "      <th>1</th>\n",
       "      <td>4</td>\n",
       "      <td>64</td>\n",
       "      <td>False</td>\n",
       "    </tr>\n",
       "    <tr>\n",
       "      <th>2</th>\n",
       "      <td>4</td>\n",
       "      <td>128</td>\n",
       "      <td>False</td>\n",
       "    </tr>\n",
       "    <tr>\n",
       "      <th>3</th>\n",
       "      <td>4</td>\n",
       "      <td>128</td>\n",
       "      <td>False</td>\n",
       "    </tr>\n",
       "    <tr>\n",
       "      <th>4</th>\n",
       "      <td>3</td>\n",
       "      <td>32</td>\n",
       "      <td>True</td>\n",
       "    </tr>\n",
       "  </tbody>\n",
       "</table>\n",
       "</div>"
      ],
      "text/plain": [
       "   RAM_Capacity_(GB)  ROM_Capacity_(GB)  ROM_Expandable\n",
       "0                  4                 64            True\n",
       "1                  4                 64           False\n",
       "2                  4                128           False\n",
       "3                  4                128           False\n",
       "4                  3                 32            True"
      ]
     },
     "execution_count": 41,
     "metadata": {},
     "output_type": "execute_result"
    }
   ],
   "source": [
    "# Function to extract RAM, ROM, and Expandable Storage (Boolean)\n",
    "def extract_memory_features(memory_str):\n",
    "    ram_match = re.search(r'(\\d+)\\s*GB\\s*RAM', memory_str, re.IGNORECASE)\n",
    "    rom_match = re.search(r'(\\d+)\\s*GB\\s*ROM', memory_str, re.IGNORECASE)\n",
    "    expandable_match = re.search(r'Expandable', memory_str, re.IGNORECASE)\n",
    "\n",
    "    ram = int(ram_match.group(1)) if ram_match else None\n",
    "    rom = int(rom_match.group(1)) if rom_match else None\n",
    "    expandable = bool(expandable_match)  # Converts to True if found, otherwise False\n",
    "\n",
    "    return pd.Series([ram, rom, expandable])\n",
    "\n",
    "# Apply function to extract values\n",
    "df[['RAM_Capacity_(GB)', 'ROM_Capacity_(GB)', 'ROM_Expandable']] = df['memory'].apply(extract_memory_features)\n",
    "\n",
    "df[\"RAM_Capacity_(GB)\"] = df[\"RAM_Capacity_(GB)\"].astype(\"Int64\")\n",
    "df[\"ROM_Capacity_(GB)\"] = df[\"ROM_Capacity_(GB)\"].astype(\"Int64\")\n",
    "df[\"ROM_Expandable\"] = df[\"ROM_Expandable\"].astype(bool)  \n",
    "\n",
    "df = df.drop(columns=['memory'])\n",
    "\n",
    "df[['RAM_Capacity_(GB)', 'ROM_Capacity_(GB)', 'ROM_Expandable']].head()"
   ]
  },
  {
   "cell_type": "markdown",
   "metadata": {},
   "source": [
    "#### Name\n",
    "\n",
    "The name column consists of 3 pieces of information: brand, colour, and ROM capacity. ROM capacity is exactly the same as that extracted for the memory column so it will be ignored here. As for brand, only the main brand name will be extracted, ie Realme C2 -> Real me and Vivo x5 -> Vivo. This eases analyses but risks losing information since customers could very well purchase based on a specific model. Therefore, the original name column will not be dropped, only renamed to \"Name\" (capitalised) for consistency. \n",
    "\n",
    "Colour will be simplified where many similar colours will be categorised under one main colour, ie lunar white, eclipse white and so white will all be categorised under white. This is tricky however, as some colours like starry night, black&grey, and black&blue are difficult to classify unless hard coded into the function. This method is bound to miss some colours, so they will be classified as unknown colours. The method will be considered good enough if the number of unknown colours remains low after extraction."
   ]
  },
  {
   "cell_type": "code",
   "execution_count": 42,
   "metadata": {},
   "outputs": [
    {
     "name": "stdout",
     "output_type": "stream",
     "text": [
      "Number of unknown colours: 45\n",
      "Possible colour categories: ['red' 'blue' 'green' 'black' 'unknown' 'gray' 'white' 'purple' 'gold'\n",
      " 'silver' 'orange' 'yellow' 'pink']\n"
     ]
    },
    {
     "data": {
      "text/html": [
       "<div>\n",
       "<style scoped>\n",
       "    .dataframe tbody tr th:only-of-type {\n",
       "        vertical-align: middle;\n",
       "    }\n",
       "\n",
       "    .dataframe tbody tr th {\n",
       "        vertical-align: top;\n",
       "    }\n",
       "\n",
       "    .dataframe thead th {\n",
       "        text-align: right;\n",
       "    }\n",
       "</style>\n",
       "<table border=\"1\" class=\"dataframe\">\n",
       "  <thead>\n",
       "    <tr style=\"text-align: right;\">\n",
       "      <th></th>\n",
       "      <th>Brand</th>\n",
       "      <th>Color</th>\n",
       "    </tr>\n",
       "  </thead>\n",
       "  <tbody>\n",
       "    <tr>\n",
       "      <th>0</th>\n",
       "      <td>Redmi</td>\n",
       "      <td>red</td>\n",
       "    </tr>\n",
       "    <tr>\n",
       "      <th>1</th>\n",
       "      <td>Realme</td>\n",
       "      <td>blue</td>\n",
       "    </tr>\n",
       "    <tr>\n",
       "      <th>2</th>\n",
       "      <td>Realme</td>\n",
       "      <td>blue</td>\n",
       "    </tr>\n",
       "    <tr>\n",
       "      <th>3</th>\n",
       "      <td>Realme</td>\n",
       "      <td>green</td>\n",
       "    </tr>\n",
       "    <tr>\n",
       "      <th>4</th>\n",
       "      <td>Realme</td>\n",
       "      <td>blue</td>\n",
       "    </tr>\n",
       "  </tbody>\n",
       "</table>\n",
       "</div>"
      ],
      "text/plain": [
       "    Brand  Color\n",
       "0   Redmi    red\n",
       "1  Realme   blue\n",
       "2  Realme   blue\n",
       "3  Realme  green\n",
       "4  Realme   blue"
      ]
     },
     "execution_count": 42,
     "metadata": {},
     "output_type": "execute_result"
    }
   ],
   "source": [
    "def extract_brand_color(name):\n",
    "    words = name.split()  \n",
    "    brand = words[0]  # First word is the brand name\n",
    "\n",
    "    # Regex to find color (assuming color is mentioned after the brand and model name)\n",
    "    color_match = re.search(r'(black|blue|red|green|white|gold|silver|gray|grey|pink|purple|yellow|orange|brown|aqua|teal|lavender|bronze|champagne|midnight|starlight)', \n",
    "                            name, re.IGNORECASE)\n",
    "    color = color_match.group(0).lower() if color_match else \"unknown\"\n",
    "    \n",
    "    return pd.Series([brand, color])\n",
    "\n",
    "# Apply function to extract values\n",
    "df[['Brand', 'Color']] = df['name'].apply(extract_brand_color)\n",
    "\n",
    "# Standardize color names (grouping similar ones)\n",
    "color_mapping = {\n",
    "    \"grey\": \"gray\", \"lavender\": \"purple\", \"champagne\": \"gold\", \"midnight\": \"black\",\n",
    "    \"starlight\": \"white\", \"aqua\": \"blue\", \"teal\": \"blue\", \"bronze\": \"brown\"\n",
    "}\n",
    "df[\"Color\"] = df[\"Color\"].replace(color_mapping)\n",
    "\n",
    "df = df.rename(columns={\"name\": \"Name\"})\n",
    "\n",
    "unknown_count = df[df['Color'] == \"unknown\"].shape[0]\n",
    "print(f\"Number of unknown colours: {unknown_count}\")\n",
    "\n",
    "unique_colors = df[\"Color\"].unique()\n",
    "print(f\"Possible colour categories: {unique_colors}\")\n",
    "\n",
    "df[['Brand', 'Color']].head()"
   ]
  },
  {
   "cell_type": "markdown",
   "metadata": {},
   "source": [
    "#### Processor and Reviews\n",
    "\n",
    "The processor and reviews column only requires simplification. Each of the values in the processor column consists of the processor name followed by the word \"processor\"; only the names will be extracted for simplification. Similarly, each of the values in the reviews column consists of the number of reviews followed by the word \"reviews\"; only the number of reviews will be extracted and the column name will be renamed to \"Number_of_Reviews\"."
   ]
  },
  {
   "cell_type": "code",
   "execution_count": 43,
   "metadata": {},
   "outputs": [
    {
     "name": "stdout",
     "output_type": "stream",
     "text": [
      "                         Processor\n",
      "0          Qualcomm Snapdragon 439\n",
      "1    Qualcomm Snapdragon 665 2 GHz\n",
      "2  Qualcomm Snapdragon 665 (2 GHz)\n",
      "3  Qualcomm Snapdragon 665 (2 GHz)\n",
      "4   MediaTek P22 Octa Core 2.0 GHz\n",
      "\n",
      "   Number_of_Reviews\n",
      "0              55078\n",
      "1              20062\n",
      "2              20062\n",
      "3              20062\n",
      "4              10091\n"
     ]
    }
   ],
   "source": [
    "def extract_processor_name(text):\n",
    "    match = re.search(r'^(.*?)\\s*Processor', text, re.IGNORECASE)\n",
    "    return match.group(1).strip() if match else None\n",
    "\n",
    "df[\"Processor\"] = df[\"processor\"].apply(extract_processor_name)\n",
    "\n",
    "# Function to extract and clean the number of reviews\n",
    "def extract_review_count(text):\n",
    "    match = re.search(r'([\\d,]+)\\s*Reviews?', str(text), re.IGNORECASE)  # Extracts numeric value before \"Reviews\"\n",
    "    return int(match.group(1).replace(',', '')) if match else None  # Remove commas and convert to int\n",
    "\n",
    "# Apply function and rename column\n",
    "df[\"Number_of_Reviews\"] = df[\"reviews\"].apply(extract_review_count)\n",
    "\n",
    "# Convert to Int64 type (supports NaN values)\n",
    "df[\"Number_of_Reviews\"] = df[\"Number_of_Reviews\"].astype(\"Int64\")\n",
    "\n",
    "df = df.drop(columns=['processor'])\n",
    "df = df.drop(columns=['reviews'])\n",
    "\n",
    "print(df[[\"Processor\"]].head())\n",
    "print()\n",
    "print(df[[\"Number_of_Reviews\"]].head())"
   ]
  },
  {
   "cell_type": "markdown",
   "metadata": {},
   "source": [
    "#### Price and Rating"
   ]
  },
  {
   "cell_type": "markdown",
   "metadata": {},
   "source": [
    "The price and rating columns do not require modifications but will be capitalised for consistency. "
   ]
  },
  {
   "cell_type": "code",
   "execution_count": 44,
   "metadata": {},
   "outputs": [],
   "source": [
    "df = df.rename(columns={\"price\": \"Price\", \"rating\": \"Rating\"})"
   ]
  },
  {
   "cell_type": "markdown",
   "metadata": {},
   "source": [
    "The final data set is as follows: "
   ]
  },
  {
   "cell_type": "markdown",
   "metadata": {},
   "source": [
    "df.head()"
   ]
  },
  {
   "cell_type": "code",
   "execution_count": 45,
   "metadata": {},
   "outputs": [
    {
     "ename": "AttributeError",
     "evalue": "'DataFrame' object has no attribute 'infO'",
     "output_type": "error",
     "traceback": [
      "\u001b[1;31m---------------------------------------------------------------------------\u001b[0m",
      "\u001b[1;31mAttributeError\u001b[0m                            Traceback (most recent call last)",
      "\u001b[1;32m~\\AppData\\Local\\Temp\\ipykernel_14936\\1846278373.py\u001b[0m in \u001b[0;36m?\u001b[1;34m()\u001b[0m\n\u001b[1;32m----> 1\u001b[1;33m \u001b[0mdf\u001b[0m\u001b[1;33m.\u001b[0m\u001b[0minfO\u001b[0m\u001b[1;33m(\u001b[0m\u001b[1;33m)\u001b[0m\u001b[1;33m\u001b[0m\u001b[1;33m\u001b[0m\u001b[0m\n\u001b[0m",
      "\u001b[1;32mc:\\ProgramData\\anaconda3\\Lib\\site-packages\\pandas\\core\\generic.py\u001b[0m in \u001b[0;36m?\u001b[1;34m(self, name)\u001b[0m\n\u001b[0;32m   6200\u001b[0m             \u001b[1;32mand\u001b[0m \u001b[0mname\u001b[0m \u001b[1;32mnot\u001b[0m \u001b[1;32min\u001b[0m \u001b[0mself\u001b[0m\u001b[1;33m.\u001b[0m\u001b[0m_accessors\u001b[0m\u001b[1;33m\u001b[0m\u001b[1;33m\u001b[0m\u001b[0m\n\u001b[0;32m   6201\u001b[0m             \u001b[1;32mand\u001b[0m \u001b[0mself\u001b[0m\u001b[1;33m.\u001b[0m\u001b[0m_info_axis\u001b[0m\u001b[1;33m.\u001b[0m\u001b[0m_can_hold_identifiers_and_holds_name\u001b[0m\u001b[1;33m(\u001b[0m\u001b[0mname\u001b[0m\u001b[1;33m)\u001b[0m\u001b[1;33m\u001b[0m\u001b[1;33m\u001b[0m\u001b[0m\n\u001b[0;32m   6202\u001b[0m         ):\n\u001b[0;32m   6203\u001b[0m             \u001b[1;32mreturn\u001b[0m \u001b[0mself\u001b[0m\u001b[1;33m[\u001b[0m\u001b[0mname\u001b[0m\u001b[1;33m]\u001b[0m\u001b[1;33m\u001b[0m\u001b[1;33m\u001b[0m\u001b[0m\n\u001b[1;32m-> 6204\u001b[1;33m         \u001b[1;32mreturn\u001b[0m \u001b[0mobject\u001b[0m\u001b[1;33m.\u001b[0m\u001b[0m__getattribute__\u001b[0m\u001b[1;33m(\u001b[0m\u001b[0mself\u001b[0m\u001b[1;33m,\u001b[0m \u001b[0mname\u001b[0m\u001b[1;33m)\u001b[0m\u001b[1;33m\u001b[0m\u001b[1;33m\u001b[0m\u001b[0m\n\u001b[0m",
      "\u001b[1;31mAttributeError\u001b[0m: 'DataFrame' object has no attribute 'infO'"
     ]
    }
   ],
   "source": [
    "df.infO()"
   ]
  },
  {
   "cell_type": "markdown",
   "metadata": {},
   "source": [
    "## **📊2 Exploratory Data Analysis** "
   ]
  },
  {
   "cell_type": "markdown",
   "metadata": {},
   "source": [
    "### **Identifying Main Metric of Customer Satisfaction**\n",
    "Since the dataset lacks a direct \"customer satisfaction\" variable, a proxy metric must be identified. Ratings naturally serve as a strong candidate, as they represent direct user feedback. However, for ratings to be a reliable metric, their stability and accuracy within the dataset must first be evaluated."
   ]
  },
  {
   "cell_type": "markdown",
   "metadata": {},
   "source": [
    "A key issue with using rating alone is its high variability when the number of reviews is low. A product with a small number of high ratings is not necessarily good—early reviews may be biased or unrepresentative. On the other hand, when a product accumulates a large number of reviews, the average rating is more trustworthy and reflective of actual customer sentiment.\n",
    "\n",
    "An initial scatterplot of rating vs. number of reviews suggests a likely non-linear relationship, prompting a log-transformation of review count to better capture the trend."
   ]
  },
  {
   "cell_type": "code",
   "execution_count": null,
   "metadata": {},
   "outputs": [
    {
     "data": {
      "image/png": "[encoded data removed]",
      "text/plain": [
       "<Figure size 800x500 with 1 Axes>"
      ]
     },
     "metadata": {},
     "output_type": "display_data"
    }
   ],
   "source": [
    "df[\"Number_of_Reviews\"] = df[\"Number_of_Reviews\"].astype(\"int64\")\n",
    "\n",
    "x = df[\"Number_of_Reviews\"].to_numpy()\n",
    "y = df[\"Rating\"].to_numpy()\n",
    "\n",
    "plt.figure(figsize=(8, 5))\n",
    "sns.regplot(x=x, y=y, scatter_kws={'alpha': 0.5}, fit_reg=False)\n",
    "\n",
    "# Labels and title\n",
    "plt.xlabel(\"Number of Reviews\")\n",
    "plt.ylabel(\"Rating\")\n",
    "plt.title(\"Scatter Plot of Rating vs Number of Reviews\")\n",
    "\n",
    "plt.show()"
   ]
  },
  {
   "cell_type": "markdown",
   "metadata": {},
   "source": [
    "Post-log transformation, the relationship between rating and log(number of reviews) appears more linear. \n",
    "\n",
    "Heteroscedasticity is observed, meaning rating varies less as the number of reviews increases. Unlike typical cases where heteroscedasticity indicates an issue, in this context, it is a desirable and expected feature - as the number of reviews increases, ratings stabilize around a product's true accurate quality.\n",
    "\n",
    "This suggests a refinement of the metric. Instead of using ratings alone, the analysis will focus on **ratings <u>conditioned</u> on a significant number of reviews**. Ratings alone can be misleading when review counts are low due to high variance, while number of reviews alone is insufficient since a large number of reviews does not necessarily imply a high-quality product. Thus, a combination of high ratings and a significant review count will serve as the main indicator of customer satisfaction.\n",
    "\n",
    "**Important consideration:** A positive correlation is observed in the plot between rating and log(number of reviews). However, this does not imply that more reviews inherently lead to higher ratings. A poor-quality product will see its rating decline as more reviews accumulate, while a well-received product will maintain or improve its score. Thus, the relationship reflects a selection effect, where successful products tend to attract more reviews over time. It reflects the way customers naturally interact with ratings and how volume of reviews evolves over time."
   ]
  },
  {
   "cell_type": "code",
   "execution_count": null,
   "metadata": {},
   "outputs": [],
   "source": [
    "df['Log_Reviews'] = np.log1p(df['Number_of_Reviews'])"
   ]
  },
  {
   "cell_type": "code",
   "execution_count": null,
   "metadata": {},
   "outputs": [
    {
     "data": {
      "image/png": "[encoded data removed]",
      "text/plain": [
       "<Figure size 800x500 with 1 Axes>"
      ]
     },
     "metadata": {},
     "output_type": "display_data"
    }
   ],
   "source": [
    "df[\"Log_Reviews\"] = df[\"Log_Reviews\"].astype(\"float64\")\n",
    "\n",
    "x = df[\"Log_Reviews\"].to_numpy()\n",
    "y = df[\"Rating\"].to_numpy()\n",
    "\n",
    "# Scatter plot with regression line\n",
    "plt.figure(figsize=(8, 5))\n",
    "sns.regplot(x=x, y=y, scatter_kws={'alpha': 0.5}, line_kws={'color': 'red'})\n",
    "\n",
    "# Labels and title\n",
    "plt.xlabel(\"Log(Number of Reviews)\")\n",
    "plt.ylabel(\"Rating\")\n",
    "plt.title(\"Scatter Plot of Rating vs Log(Number of Reviews)\")\n",
    "\n",
    "plt.show()"
   ]
  },
  {
   "cell_type": "markdown",
   "metadata": {},
   "source": [
    "The residual plot of the regression is included here for completion"
   ]
  },
  {
   "cell_type": "code",
   "execution_count": null,
   "metadata": {},
   "outputs": [
    {
     "data": {
      "image/png": "[encoded data removed]",
      "text/plain": [
       "<Figure size 800x500 with 1 Axes>"
      ]
     },
     "metadata": {},
     "output_type": "display_data"
    }
   ],
   "source": [
    "# Prepare data\n",
    "X = df[['Log_Reviews']].values  # Scikit-learn requires 2D array for X\n",
    "y = df['Rating'].values\n",
    "\n",
    "# Fit model\n",
    "model = LinearRegression()\n",
    "model.fit(X, y)\n",
    "\n",
    "# Get predictions and residuals\n",
    "df[\"Predicted\"] = model.predict(X)\n",
    "df[\"Residuals\"] = df[\"Rating\"] - df[\"Predicted\"]\n",
    "\n",
    "plt.figure(figsize=(8, 5))\n",
    "plt.scatter(df[\"Predicted\"], df[\"Residuals\"], alpha=0.5)\n",
    "plt.axhline(y=0, color=\"red\", linestyle=\"dashed\")  # Reference line at y=0\n",
    "\n",
    "plt.xlabel(\"Predicted Rating\")\n",
    "plt.ylabel(\"Residuals\")\n",
    "plt.title(\"Residual Plot\")\n",
    "plt.show()"
   ]
  },
  {
   "cell_type": "markdown",
   "metadata": {},
   "source": [
    "We have defined a robust indicator of customer satisfaction. \n",
    "\n",
    "Using this as our foundation, we can now explore how other factors like price, device specifications etc, relate to customer satisfaction."
   ]
  }
 ],
 "metadata": {
  "kernelspec": {
   "display_name": "base",
   "language": "python",
   "name": "python3"
  },
  "language_info": {
   "codemirror_mode": {
    "name": "ipython",
    "version": 3
   },
   "file_extension": ".py",
   "mimetype": "text/x-python",
   "name": "python",
   "nbconvert_exporter": "python",
   "pygments_lexer": "ipython3",
   "version": "3.11.7"
  }
 },
 "nbformat": 4,
 "nbformat_minor": 2
}
